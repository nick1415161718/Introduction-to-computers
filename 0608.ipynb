{
  "nbformat": 4,
  "nbformat_minor": 0,
  "metadata": {
    "colab": {
      "name": "0608.ipynb",
      "provenance": [],
      "authorship_tag": "ABX9TyPeEmaeA+EDaz9x7MmaKMhg",
      "include_colab_link": true
    },
    "kernelspec": {
      "name": "python3",
      "display_name": "Python 3"
    },
    "language_info": {
      "name": "python"
    }
  },
  "cells": [
    {
      "cell_type": "markdown",
      "metadata": {
        "id": "view-in-github",
        "colab_type": "text"
      },
      "source": [
        "<a href=\"https://colab.research.google.com/github/nick1415161718/Introduction-to-computers/blob/main/0608.ipynb\" target=\"_parent\"><img src=\"https://colab.research.google.com/assets/colab-badge.svg\" alt=\"Open In Colab\"/></a>"
      ]
    },
    {
      "cell_type": "code",
      "execution_count": 1,
      "metadata": {
        "id": "jtsIBTxuG-y9"
      },
      "outputs": [],
      "source": [
        "list1=[1,2,3,4]"
      ]
    },
    {
      "cell_type": "code",
      "source": [
        "list1"
      ],
      "metadata": {
        "colab": {
          "base_uri": "https://localhost:8080/"
        },
        "id": "aRkkSycDHBge",
        "outputId": "afa560bf-2b27-491c-e391-8c71a0e7e130"
      },
      "execution_count": 2,
      "outputs": [
        {
          "output_type": "execute_result",
          "data": {
            "text/plain": [
              "[1, 2, 3, 4]"
            ]
          },
          "metadata": {},
          "execution_count": 2
        }
      ]
    },
    {
      "cell_type": "code",
      "source": [
        "list2=['秋刀魚','鯊魚','鮪魚']"
      ],
      "metadata": {
        "id": "bSkG-fvnHCbC"
      },
      "execution_count": 3,
      "outputs": []
    },
    {
      "cell_type": "code",
      "source": [
        "list2"
      ],
      "metadata": {
        "colab": {
          "base_uri": "https://localhost:8080/"
        },
        "id": "fl2x7gp1HEiN",
        "outputId": "9dfa76b2-8852-4ca6-d63d-6d727df686c5"
      },
      "execution_count": 4,
      "outputs": [
        {
          "output_type": "execute_result",
          "data": {
            "text/plain": [
              "['秋刀魚', '鯊魚', '鮪魚']"
            ]
          },
          "metadata": {},
          "execution_count": 4
        }
      ]
    },
    {
      "cell_type": "code",
      "source": [
        "list3=['西瓜',66,True]"
      ],
      "metadata": {
        "id": "XxOYRYQ2HFs9"
      },
      "execution_count": 5,
      "outputs": []
    },
    {
      "cell_type": "code",
      "source": [
        "\n",
        "list3"
      ],
      "metadata": {
        "colab": {
          "base_uri": "https://localhost:8080/"
        },
        "id": "EZpEVYE7HG15",
        "outputId": "e6f73d8e-bbec-4763-bd3b-89d50084e7d6"
      },
      "execution_count": 6,
      "outputs": [
        {
          "output_type": "execute_result",
          "data": {
            "text/plain": [
              "['西瓜', 66, True]"
            ]
          },
          "metadata": {},
          "execution_count": 6
        }
      ]
    },
    {
      "cell_type": "code",
      "source": [
        "list4=[]"
      ],
      "metadata": {
        "id": "MUsQ2syFHHxa"
      },
      "execution_count": 7,
      "outputs": []
    },
    {
      "cell_type": "code",
      "source": [
        "list4"
      ],
      "metadata": {
        "colab": {
          "base_uri": "https://localhost:8080/"
        },
        "id": "0o3qugCrHJH0",
        "outputId": "e418080f-f710-4190-cfdd-4dd6752f7e58"
      },
      "execution_count": 8,
      "outputs": [
        {
          "output_type": "execute_result",
          "data": {
            "text/plain": [
              "[]"
            ]
          },
          "metadata": {},
          "execution_count": 8
        }
      ]
    },
    {
      "cell_type": "code",
      "source": [
        "list1=[1,2,3,4]\n",
        "print(list1)\n",
        "print(list1[0])\n",
        "print(list1[1])\n",
        "print(list1[2])\n",
        "print(list1[3])"
      ],
      "metadata": {
        "colab": {
          "base_uri": "https://localhost:8080/"
        },
        "id": "krKOsiu3HKfG",
        "outputId": "3280fd71-cb6c-4031-b704-6ae93e59f838"
      },
      "execution_count": 9,
      "outputs": [
        {
          "output_type": "stream",
          "name": "stdout",
          "text": [
            "[1, 2, 3, 4]\n",
            "1\n",
            "2\n",
            "3\n",
            "4\n"
          ]
        }
      ]
    },
    {
      "cell_type": "code",
      "source": [
        "print(list2[0])"
      ],
      "metadata": {
        "colab": {
          "base_uri": "https://localhost:8080/"
        },
        "id": "G3PfPfG0HLoV",
        "outputId": "ed0a13c5-dbb5-4db3-f861-7e13e3433665"
      },
      "execution_count": 12,
      "outputs": [
        {
          "output_type": "stream",
          "name": "stdout",
          "text": [
            "秋刀魚\n"
          ]
        }
      ]
    },
    {
      "cell_type": "code",
      "source": [
        "list5=['鳳梨','西瓜','蓮霧']\n",
        "print(list5[0])\n",
        "print(list5[1])\n",
        "print(list5[2])"
      ],
      "metadata": {
        "colab": {
          "base_uri": "https://localhost:8080/"
        },
        "id": "Lj3LJcRbHMi3",
        "outputId": "c87638c3-16a7-4170-e87d-2290e7f15603"
      },
      "execution_count": 13,
      "outputs": [
        {
          "output_type": "stream",
          "name": "stdout",
          "text": [
            "鳳梨\n",
            "西瓜\n",
            "蓮霧\n"
          ]
        }
      ]
    },
    {
      "cell_type": "code",
      "source": [
        "print(list5[-1])\n",
        "print(list5[-2])\n",
        "print(list5[-3])"
      ],
      "metadata": {
        "colab": {
          "base_uri": "https://localhost:8080/"
        },
        "id": "visXk0HOHOvz",
        "outputId": "9fbfff92-7c6c-48bb-972b-97ac98e5b653"
      },
      "execution_count": 14,
      "outputs": [
        {
          "output_type": "stream",
          "name": "stdout",
          "text": [
            "蓮霧\n",
            "西瓜\n",
            "鳳梨\n"
          ]
        }
      ]
    },
    {
      "cell_type": "code",
      "source": [
        "list6=[['tom','1234']],['mary','abcd'],['david','5678']"
      ],
      "metadata": {
        "id": "29W0DSoVHRfE"
      },
      "execution_count": 17,
      "outputs": []
    },
    {
      "cell_type": "code",
      "source": [
        "print(list6[1])"
      ],
      "metadata": {
        "colab": {
          "base_uri": "https://localhost:8080/"
        },
        "id": "JRiO5twRHTKL",
        "outputId": "7cbbd6ae-b289-4128-c73a-4e21cefa6db6"
      },
      "execution_count": 18,
      "outputs": [
        {
          "output_type": "stream",
          "name": "stdout",
          "text": [
            "['mary', 'abcd']\n"
          ]
        }
      ]
    },
    {
      "cell_type": "code",
      "source": [
        "print(list6[0])"
      ],
      "metadata": {
        "colab": {
          "base_uri": "https://localhost:8080/"
        },
        "id": "4ML59P7VHUeL",
        "outputId": "0c49989f-6b22-4d6e-bed3-e221802373da"
      },
      "execution_count": 19,
      "outputs": [
        {
          "output_type": "stream",
          "name": "stdout",
          "text": [
            "[['tom', '1234']]\n"
          ]
        }
      ]
    },
    {
      "cell_type": "code",
      "source": [
        "print(list6[1][1])"
      ],
      "metadata": {
        "colab": {
          "base_uri": "https://localhost:8080/"
        },
        "id": "9OmKHPwxHW1W",
        "outputId": "4d35df15-cff7-43de-ab62-4e74d474fd95"
      },
      "execution_count": 20,
      "outputs": [
        {
          "output_type": "stream",
          "name": "stdout",
          "text": [
            "abcd\n"
          ]
        }
      ]
    },
    {
      "cell_type": "code",
      "source": [
        "print(list6[0])"
      ],
      "metadata": {
        "colab": {
          "base_uri": "https://localhost:8080/"
        },
        "id": "3BH5XWq4HYTO",
        "outputId": "47c0adb5-581b-4fec-dd49-5b34f3ad7577"
      },
      "execution_count": 21,
      "outputs": [
        {
          "output_type": "stream",
          "name": "stdout",
          "text": [
            "[['tom', '1234']]\n"
          ]
        }
      ]
    },
    {
      "cell_type": "code",
      "source": [
        "print(list6[0][0])"
      ],
      "metadata": {
        "colab": {
          "base_uri": "https://localhost:8080/"
        },
        "id": "TR-2X4nRHZ_Y",
        "outputId": "7a063138-4ac3-4b77-cc7d-6da6e2894d6c"
      },
      "execution_count": 22,
      "outputs": [
        {
          "output_type": "stream",
          "name": "stdout",
          "text": [
            "['tom', '1234']\n"
          ]
        }
      ]
    },
    {
      "cell_type": "code",
      "source": [
        "print(list6[1][0])"
      ],
      "metadata": {
        "colab": {
          "base_uri": "https://localhost:8080/"
        },
        "id": "L4evfyKJHbE9",
        "outputId": "571b8239-1500-4e87-88d6-d505bb3e8994"
      },
      "execution_count": 23,
      "outputs": [
        {
          "output_type": "stream",
          "name": "stdout",
          "text": [
            "mary\n"
          ]
        }
      ]
    },
    {
      "cell_type": "code",
      "source": [
        "list7=['國文','數學','英文']\n",
        "list8=[85,79,93]\n",
        "print(list7[0],'成績:',list8[0],'分',sep='')\n",
        "print(list7[1],'成績:',list8[1],'分',sep='')\n",
        "print(list7[2],'成績:',list8[2],'分',sep='')"
      ],
      "metadata": {
        "colab": {
          "base_uri": "https://localhost:8080/"
        },
        "id": "3liN-yzyHcJC",
        "outputId": "765a8df0-2177-43f9-eb48-5bc24e2ab316"
      },
      "execution_count": 24,
      "outputs": [
        {
          "output_type": "stream",
          "name": "stdout",
          "text": [
            "國文成績:85分\n",
            "數學成績:79分\n",
            "英文成績:93分\n"
          ]
        }
      ]
    },
    {
      "cell_type": "code",
      "source": [
        "scores=[85,79,93]\n",
        "print('國文成績:%d分'%scores[0])\n",
        "print('數學成績:%d分'%scores[1])\n",
        "print('英文成績:%d分'%scores[2])"
      ],
      "metadata": {
        "colab": {
          "base_uri": "https://localhost:8080/"
        },
        "id": "I-jmxRsDHdGQ",
        "outputId": "447fbc8f-d6a8-4965-a2a2-6b03c671e576"
      },
      "execution_count": 25,
      "outputs": [
        {
          "output_type": "stream",
          "name": "stdout",
          "text": [
            "國文成績:85分\n",
            "數學成績:79分\n",
            "英文成績:93分\n"
          ]
        }
      ]
    },
    {
      "cell_type": "code",
      "source": [
        "list9=[1,2,3,4,5]\n",
        "print(list9[0])"
      ],
      "metadata": {
        "colab": {
          "base_uri": "https://localhost:8080/"
        },
        "id": "37tFpRmPHeHa",
        "outputId": "df1eef96-0dcc-495e-bb59-c53065d116dd"
      },
      "execution_count": 26,
      "outputs": [
        {
          "output_type": "stream",
          "name": "stdout",
          "text": [
            "1\n"
          ]
        }
      ]
    },
    {
      "cell_type": "code",
      "source": [
        "list9[0]=9"
      ],
      "metadata": {
        "id": "MmIKrmXlHfGH"
      },
      "execution_count": 27,
      "outputs": []
    },
    {
      "cell_type": "code",
      "source": [
        "print(list9)"
      ],
      "metadata": {
        "colab": {
          "base_uri": "https://localhost:8080/"
        },
        "id": "nrpMjbIRHf-H",
        "outputId": "6d4acf6f-afa0-43b9-bfea-a80d9cbc87df"
      },
      "execution_count": 28,
      "outputs": [
        {
          "output_type": "stream",
          "name": "stdout",
          "text": [
            "[9, 2, 3, 4, 5]\n"
          ]
        }
      ]
    },
    {
      "cell_type": "code",
      "source": [
        "list2=['秋刀魚','鯊魚','鮪魚']\n",
        "print(list2)\n",
        "for s in list2:\n",
        "  print(s,end=',')"
      ],
      "metadata": {
        "colab": {
          "base_uri": "https://localhost:8080/"
        },
        "id": "3lNi2uusHg0R",
        "outputId": "2fca8098-49fb-4a24-ed94-d87b14e0de4b"
      },
      "execution_count": 30,
      "outputs": [
        {
          "output_type": "stream",
          "name": "stdout",
          "text": [
            "['秋刀魚', '鯊魚', '鮪魚']\n",
            "秋刀魚,鯊魚,鮪魚,"
          ]
        }
      ]
    },
    {
      "cell_type": "code",
      "source": [
        "list3=['西瓜',66,True]\n",
        "for s in list3:\n",
        "  print(s,sep='\\n')"
      ],
      "metadata": {
        "colab": {
          "base_uri": "https://localhost:8080/"
        },
        "id": "uCiGP45EHh1B",
        "outputId": "d2c93173-bf3c-4b61-c7d5-b239663f7e7b"
      },
      "execution_count": 31,
      "outputs": [
        {
          "output_type": "stream",
          "name": "stdout",
          "text": [
            "西瓜\n",
            "66\n",
            "True\n"
          ]
        }
      ]
    },
    {
      "cell_type": "code",
      "source": [
        "a=[11,22,33]\n",
        "print(len(a))"
      ],
      "metadata": {
        "colab": {
          "base_uri": "https://localhost:8080/"
        },
        "id": "4ySTUQmxHkAT",
        "outputId": "ae0de48f-c5ac-4a7e-ab27-56ed4cc36e49"
      },
      "execution_count": 32,
      "outputs": [
        {
          "output_type": "stream",
          "name": "stdout",
          "text": [
            "3\n"
          ]
        }
      ]
    },
    {
      "cell_type": "code",
      "source": [
        "a=[11,22,33,44]\n",
        "print(len(a))"
      ],
      "metadata": {
        "colab": {
          "base_uri": "https://localhost:8080/"
        },
        "id": "bVFLhyyaHlQY",
        "outputId": "4cd1a567-a231-4c7a-caeb-16731e8aaf50"
      },
      "execution_count": 33,
      "outputs": [
        {
          "output_type": "stream",
          "name": "stdout",
          "text": [
            "4\n"
          ]
        }
      ]
    },
    {
      "cell_type": "code",
      "source": [
        "scores=[85,79,93]\n",
        "for i in range(len(scores)):\n",
        "  print(scores[i])"
      ],
      "metadata": {
        "colab": {
          "base_uri": "https://localhost:8080/"
        },
        "id": "SSNAcBPqHmID",
        "outputId": "001b2022-4c0f-49b2-803b-7a0dc6e3fa86"
      },
      "execution_count": 34,
      "outputs": [
        {
          "output_type": "stream",
          "name": "stdout",
          "text": [
            "85\n",
            "79\n",
            "93\n"
          ]
        }
      ]
    },
    {
      "cell_type": "code",
      "source": [
        "scores=[85,79,93]\n",
        "a=['國文','數學','英文']\n",
        "for i in range(len(scores)):\n",
        "  for i in range(len(a)):\n",
        "    print(a[i],'成績:',scores[i],'分')"
      ],
      "metadata": {
        "colab": {
          "base_uri": "https://localhost:8080/"
        },
        "id": "3xQ4GgP0HnY8",
        "outputId": "c46847bd-d794-4e16-e155-8fad4073c538"
      },
      "execution_count": 35,
      "outputs": [
        {
          "output_type": "stream",
          "name": "stdout",
          "text": [
            "國文 成績: 85 分\n",
            "數學 成績: 79 分\n",
            "英文 成績: 93 分\n",
            "國文 成績: 85 分\n",
            "數學 成績: 79 分\n",
            "英文 成績: 93 分\n",
            "國文 成績: 85 分\n",
            "數學 成績: 79 分\n",
            "英文 成績: 93 分\n"
          ]
        }
      ]
    },
    {
      "cell_type": "code",
      "source": [
        "b=['Tom','Mary','Tony']\n",
        "for i in range(len(b)):\n",
        "  print('編號:',i,'姓名:',b[i])"
      ],
      "metadata": {
        "colab": {
          "base_uri": "https://localhost:8080/"
        },
        "id": "CbDx0NXNHojt",
        "outputId": "75e5919c-e7d7-4e04-cb05-2cb8278c9236"
      },
      "execution_count": 36,
      "outputs": [
        {
          "output_type": "stream",
          "name": "stdout",
          "text": [
            "編號: 0 姓名: Tom\n",
            "編號: 1 姓名: Mary\n",
            "編號: 2 姓名: Tony\n"
          ]
        }
      ]
    },
    {
      "cell_type": "code",
      "source": [
        "c=['國文成績為:85分','數學成績為:79分','英文成績為:93分']\n",
        "for i in range(len(c)):\n",
        "  print(c[i],sep='')"
      ],
      "metadata": {
        "colab": {
          "base_uri": "https://localhost:8080/"
        },
        "id": "uT3G5p-2HpjF",
        "outputId": "ef7df5fe-4439-4903-fd99-a21eb8326c7a"
      },
      "execution_count": 37,
      "outputs": [
        {
          "output_type": "stream",
          "name": "stdout",
          "text": [
            "國文成績為:85分\n",
            "數學成績為:79分\n",
            "英文成績為:93分\n"
          ]
        }
      ]
    },
    {
      "cell_type": "code",
      "source": [
        ""
      ],
      "metadata": {
        "id": "EhemmODVHrEm"
      },
      "execution_count": null,
      "outputs": []
    }
  ]
}